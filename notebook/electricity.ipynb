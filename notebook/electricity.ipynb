{
 "cells": [
  {
   "cell_type": "markdown",
   "metadata": {},
   "source": [
    "# Energy Consumption Reduction Prediction Challenge: A Real-World Trial Analysis"
   ]
  },
  {
   "cell_type": "code",
   "execution_count": null,
   "metadata": {},
   "outputs": [],
   "source": [
    "# Import libraries\n",
    "import numpy as np\n",
    "import pandas as pd\n",
    "import seaborn as sns\n",
    "import matplotlib.pyplot as plt"
   ]
  },
  {
   "cell_type": "markdown",
   "metadata": {},
   "source": [
    "# Import Data"
   ]
  },
  {
   "cell_type": "markdown",
   "metadata": {},
   "source": [
    "Data wrangling function\n",
    "- [ ] load data\n",
    "- [ ] shape and variables type  \n",
    "- [ ] missing values\n",
    "- [ ] outliers ? (what does it mean)\n",
    "- [ ] low- and high-cardinality variables (recoding suggestion?)\n",
    "- [ ] leakage variables (w.r.t. the modelling objective)"
   ]
  },
  {
   "cell_type": "code",
   "execution_count": null,
   "metadata": {},
   "outputs": [],
   "source": [
    "# "
   ]
  },
  {
   "cell_type": "markdown",
   "metadata": {},
   "source": [
    "# Exploratory Data Analysis - Descriptive Statistics"
   ]
  },
  {
   "cell_type": "markdown",
   "metadata": {},
   "source": [
    "- [ ] Potential bias issues (resource allocation or quality of service, qualitative assessement of sensitive features)\n",
    "- [ ] univariate distribution (categorial, numerical)\n",
    "- [ ] bivariate distribution (correlations, numerical vs numerical, categorial vs categorial, numerical vs categorial"
   ]
  },
  {
   "cell_type": "code",
   "execution_count": null,
   "metadata": {},
   "outputs": [],
   "source": [
    "# "
   ]
  },
  {
   "cell_type": "markdown",
   "metadata": {},
   "source": [
    "# Modelling"
   ]
  },
  {
   "cell_type": "markdown",
   "metadata": {},
   "source": [
    "- [ ] Define the task (type of problem, set target if at all, choose initial features)\n",
    "- [ ] Check (again) the target (class imbalances)\n",
    "- [ ] Set main metrics, validation strategy\n",
    "- [ ] Train-Test split\n",
    "- [ ] Feature engineering pipeline\n",
    "- [ ] Baseline model\n",
    "- [ ] Training, hyperparemeters tuning\n",
    "- [ ] Features selection\n",
    "- [ ] Evaluation\n",
    "- [ ] Explaination"
   ]
  },
  {
   "cell_type": "code",
   "execution_count": null,
   "metadata": {},
   "outputs": [],
   "source": [
    "# "
   ]
  },
  {
   "cell_type": "markdown",
   "metadata": {},
   "source": [
    "# Communication"
   ]
  },
  {
   "cell_type": "markdown",
   "metadata": {},
   "source": [
    "- [ ] Summarize results, model comparison\n",
    "- [ ] Feature contribution\n",
    "- [ ] Interactive Widget\n",
    "- [ ] an App? (if it remains enough time)"
   ]
  },
  {
   "cell_type": "code",
   "execution_count": null,
   "metadata": {},
   "outputs": [],
   "source": [
    "#"
   ]
  },
  {
   "cell_type": "markdown",
   "metadata": {},
   "source": [
    "## Recommendation"
   ]
  },
  {
   "cell_type": "markdown",
   "metadata": {},
   "source": [
    "* Next-time, use a randomized trial with control and treated group (if the objective is to know the effectiveness of some recommendation program)  "
   ]
  }
 ],
 "metadata": {
  "kernelspec": {
   "display_name": "YouTrend",
   "language": "python",
   "name": "youtrend"
  },
  "language_info": {
   "name": "python",
   "version": "3.10.11"
  }
 },
 "nbformat": 4,
 "nbformat_minor": 2
}
