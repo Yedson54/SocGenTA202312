{
 "cells": [
  {
   "cell_type": "code",
   "execution_count": 1,
   "metadata": {},
   "outputs": [],
   "source": [
    "# Import libraries\n",
    "import pickle\n",
    "import numpy as np\n",
    "import pandas as pd\n",
    "import seaborn as sns\n",
    "import matplotlib.pyplot as plt\n",
    "\n",
    "from sklearn.metrics import (\n",
    "    roc_auc_score,\n",
    "    accuracy_score,\n",
    "    classification_report,\n",
    "    ConfusionMatrixDisplay\n",
    ")\n",
    "from sklearn.model_selection import StratifiedKFold\n",
    "from sklearn.pipeline import Pipeline\n",
    "from sklearn.preprocessing import (\n",
    "    StandardScaler,\n",
    "    OneHotEncoder,\n",
    "    TargetEncoder,\n",
    ")\n",
    "from sklearn.impute import SimpleImputer #,KNNImputer\n",
    "from sklearn.compose import (\n",
    "    ColumnTransformer, \n",
    "    make_column_selector\n",
    ")\n",
    "from sklearn.model_selection import train_test_split\n",
    "from sklearn.feature_selection import RFE, RFECV\n",
    "# Models\n",
    "from sklearn.dummy import DummyClassifier\n",
    "from sklearn.linear_model import LogisticRegressionCV\n",
    "from sklearn.ensemble import RandomForestClassifier\n",
    "# Explanation and calibration\n",
    "from sklearn.inspection import (\n",
    "    PartialDependenceDisplay,\n",
    "    DecisionBoundaryDisplay,\n",
    "    permutation_importance\n",
    ")\n",
    "from sklearn.calibration import (\n",
    "    CalibrationDisplay,\n",
    "    CalibratedClassifierCV\n",
    ")\n",
    "from skopt import BayesSearchCV"
   ]
  },
  {
   "cell_type": "code",
   "execution_count": 2,
   "metadata": {},
   "outputs": [
    {
     "data": {
      "text/plain": [
       "'1.3.2'"
      ]
     },
     "execution_count": 2,
     "metadata": {},
     "output_type": "execute_result"
    }
   ],
   "source": [
    "import sklearn\n",
    "sklearn.__version__"
   ]
  },
  {
   "cell_type": "markdown",
   "metadata": {},
   "source": [
    "# Modelling"
   ]
  },
  {
   "cell_type": "markdown",
   "metadata": {},
   "source": [
    "- [x] Define the task (type of problem, set target if at all, choose initial features)\n",
    "- [x] Check (again) the target (class imbalances)\n",
    "- [x] Set main metrics, validation strategy\n",
    "- [x] Train-Test split\n",
    "- [x] Baseline model\n",
    "- [ ] Feature engineering pipeline\n",
    "- [ ] Training, hyperparemeters tuning\n",
    "- [ ] Features selection\n",
    "- [ ] Calibration\n",
    "- [ ] Evaluation\n",
    "- [ ] Explaination"
   ]
  },
  {
   "cell_type": "code",
   "execution_count": 3,
   "metadata": {},
   "outputs": [
    {
     "name": "stdout",
     "output_type": "stream",
     "text": [
      "<class 'pandas.core.frame.DataFrame'>\n",
      "RangeIndex: 85529 entries, 0 to 85528\n",
      "Columns: 84 entries, COD_INSEE to Q12_new\n",
      "dtypes: Float64(4), Int64(41), float64(1), int32(1), int64(2), object(35)\n",
      "memory usage: 58.2+ MB\n"
     ]
    }
   ],
   "source": [
    "# Load data.\n",
    "elec_df = pd.read_parquet(\"../data/processed/processed_training_full.parquet\")\n",
    "elec_df.info(verbose=False)"
   ]
  },
  {
   "cell_type": "code",
   "execution_count": 4,
   "metadata": {},
   "outputs": [
    {
     "data": {
      "image/png": "[encoded data removed]",
      "text/plain": [
       "<Figure size 640x480 with 1 Axes>"
      ]
     },
     "metadata": {},
     "output_type": "display_data"
    }
   ],
   "source": [
    "elec_df[\"TARGET\"].value_counts(normalize=True).plot(kind=\"bar\");"
   ]
  },
  {
   "cell_type": "code",
   "execution_count": 5,
   "metadata": {},
   "outputs": [
    {
     "data": {
      "text/plain": [
       "Index(['C10', 'C11', 'C12', 'C13', 'C14', 'C15', 'C16', 'C17', 'C18', 'C19',\n",
       "       'C3', 'C4', 'C5', 'C6', 'C7', 'C8', 'COD_INSEE', 'COD_IRIS', 'Q1',\n",
       "       'Q10', 'Q11', 'Q11_new', 'Q12', 'Q12_new', 'Q13', 'Q14', 'Q16', 'Q19',\n",
       "       'Q2', 'Q20', 'Q21', 'Q22', 'Q24', 'Q25', 'Q26', 'Q27', 'Q28', 'Q3',\n",
       "       'Q30', 'Q31', 'Q32', 'Q33', 'Q34', 'Q35', 'Q36', 'Q4', 'Q41', 'Q42',\n",
       "       'Q43', 'Q44', 'Q45', 'Q46', 'Q47', 'Q48', 'Q49', 'Q5', 'Q53', 'Q54',\n",
       "       'Q55', 'Q57', 'Q58', 'Q59', 'Q61', 'Q62', 'Q63', 'Q64', 'Q67', 'Q68',\n",
       "       'Q69', 'Q70', 'Q71', 'Q72', 'Q8', 'Q9', 'Q_n_equips_53_75', 'S1', 'S10',\n",
       "       'S11', 'S12', 'S2', 'S8', 'S9', 'S_n_visits_3_7', 'TARGET'],\n",
       "      dtype='object')"
      ]
     },
     "execution_count": 5,
     "metadata": {},
     "output_type": "execute_result"
    }
   ],
   "source": [
    "elec_df.columns.sort_values()"
   ]
  },
  {
   "cell_type": "markdown",
   "metadata": {},
   "source": [
    "### Train-Test split, metrics and validation strategy"
   ]
  },
  {
   "cell_type": "code",
   "execution_count": 6,
   "metadata": {},
   "outputs": [],
   "source": [
    "# Target definition, Features initial choice.\n",
    "target = \"TARGET\"\n",
    "features = [\n",
    "    'C3', 'C4', 'C5', 'C6', 'C7', 'C8', 'C10', 'C11', 'C12', 'C13', 'C14', \n",
    "    'C15', 'C16', 'C17', 'C18', 'C19',\n",
    "    # -------------------------------------------------------------------\n",
    "    'Q1', 'Q2', 'Q3', 'Q4', 'Q5', 'Q8', 'Q9', 'Q10', 'Q11_new', 'Q12_new', 'Q13', \n",
    "    'Q14', 'Q16', 'Q19', 'Q20', 'Q21', 'Q22', 'Q24', 'Q25', 'Q26', 'Q27',\n",
    "    'Q28', 'Q30', 'Q31', 'Q32', 'Q33', 'Q34', 'Q35', 'Q36', 'Q41', 'Q42',\n",
    "    'Q43', 'Q44', 'Q45', 'Q46', 'Q47', 'Q48', 'Q49', 'Q53', 'Q54', 'Q55',\n",
    "    'Q57', 'Q58', 'Q59', 'Q61', 'Q62', 'Q63', 'Q64', 'Q67', 'Q68', 'Q69',\n",
    "    'Q70', 'Q71', 'Q72', 'Q_n_equips_53_75',\n",
    "    # -------------------------------------------------------------------\n",
    "    'S1', 'S2', 'S8', 'S9', 'S10', 'S11', 'S12', 'S_n_visits_3_7',\n",
    "    # -------------------------------------------------------------------\n",
    "    'COD_IRIS'\n",
    "]\n",
    "high_cardinalty_features = [\"COD_IRIS\"] "
   ]
  },
  {
   "cell_type": "code",
   "execution_count": 7,
   "metadata": {},
   "outputs": [],
   "source": [
    "elec_df[\"COD_IRIS\"] = elec_df[\"COD_IRIS\"].fillna(-99).astype(int)"
   ]
  },
  {
   "cell_type": "code",
   "execution_count": 8,
   "metadata": {},
   "outputs": [
    {
     "name": "stdout",
     "output_type": "stream",
     "text": [
      "X_train shape: (68423, 80)\n",
      "y_train shape: (68423,)\n",
      "X_test shape: (17106, 80)\n",
      "y_test shape: (17106,)\n"
     ]
    }
   ],
   "source": [
    "# Target and Features.\n",
    "y = elec_df[target]\n",
    "X = elec_df.drop(columns=target)[features]\n",
    "\n",
    "# Train-Test split.\n",
    "random_state = 42\n",
    "X_train, X_test, y_train, y_test = train_test_split(X, y, test_size=0.2, stratify=y, random_state=random_state)\n",
    "\n",
    "print(\"X_train shape:\", X_train.shape)\n",
    "print(\"y_train shape:\", y_train.shape)\n",
    "print(\"X_test shape:\", X_test.shape)\n",
    "print(\"y_test shape:\", y_test.shape)"
   ]
  },
  {
   "cell_type": "code",
   "execution_count": 9,
   "metadata": {},
   "outputs": [],
   "source": [
    "# Metrics and validation strategy.\n",
    "scoring = \"accuracy\" #\"roc_auc\"\n",
    "cv = StratifiedKFold(5)"
   ]
  },
  {
   "cell_type": "code",
   "execution_count": 48,
   "metadata": {},
   "outputs": [],
   "source": [
    "def print_score_report(clf, return_ypreds=False):\n",
    "    print(\"----------- TRAIN -----------\")\n",
    "    y_pred_train = clf.predict(X_train)\n",
    "    print(\"Train ROC AUC\", roc_auc_score(y_train, y_pred_train).round(2))\n",
    "    print(\"\\nTrain Classification Report\\n\", classification_report(y_train, y_pred_train, zero_division=0.0))\n",
    "\n",
    "    print(\"----------- TEST -----------\")\n",
    "    y_pred_test = clf.predict(X_test)\n",
    "    print(\"Test ROC AUC\", roc_auc_score(y_test, y_pred_test).round(2))\n",
    "    print(\"\\nTest Classification Report\\n\", classification_report(y_test, y_pred_test, zero_division=0.0))\n",
    "\n",
    "    if return_ypreds:\n",
    "        return (y_pred_train, y_pred_test)\n",
    "    return None"
   ]
  },
  {
   "cell_type": "markdown",
   "metadata": {},
   "source": [
    "### Baseline Model"
   ]
  },
  {
   "cell_type": "code",
   "execution_count": 49,
   "metadata": {},
   "outputs": [
    {
     "name": "stdout",
     "output_type": "stream",
     "text": [
      "-------- MOST FREQUENT ----------\n",
      "----------- TRAIN -----------\n",
      "Train ROC AUC 0.5\n",
      "\n",
      "Train Classification Report\n",
      "               precision    recall  f1-score   support\n",
      "\n",
      "         0.0       0.81      1.00      0.89     55177\n",
      "         1.0       0.00      0.00      0.00     13246\n",
      "\n",
      "    accuracy                           0.81     68423\n",
      "   macro avg       0.40      0.50      0.45     68423\n",
      "weighted avg       0.65      0.81      0.72     68423\n",
      "\n",
      "----------- TEST -----------\n",
      "Test ROC AUC 0.5\n",
      "\n",
      "Test Classification Report\n",
      "               precision    recall  f1-score   support\n",
      "\n",
      "         0.0       0.81      1.00      0.89     13794\n",
      "         1.0       0.00      0.00      0.00      3312\n",
      "\n",
      "    accuracy                           0.81     17106\n",
      "   macro avg       0.40      0.50      0.45     17106\n",
      "weighted avg       0.65      0.81      0.72     17106\n",
      "\n",
      "None\n",
      "-------- STRATIFIED -------------\n",
      "Dummy Classifier ROC-AUC score: 0.4957601047485931\n",
      "Dummy Classifier ROC-AUC score:\n",
      "               precision    recall  f1-score   support\n",
      "\n",
      "         0.0       0.80      0.81      0.81     55177\n",
      "         1.0       0.19      0.19      0.19     13246\n",
      "\n",
      "    accuracy                           0.69     68423\n",
      "   macro avg       0.50      0.50      0.50     68423\n",
      "weighted avg       0.69      0.69      0.69     68423\n",
      "\n"
     ]
    }
   ],
   "source": [
    "# Baseline Model.\n",
    "dummy_clf = DummyClassifier(strategy=\"most_frequent\", random_state=random_state)\n",
    "dummy_clf.fit(X_train, y_train)\n",
    "y_pred = np.int64(dummy_clf.predict(X_train))\n",
    "print(\"-------- MOST FREQUENT ----------\")\n",
    "print(print_score_report(dummy_clf))\n",
    "\n",
    "print(\"-------- STRATIFIED -------------\")\n",
    "dummy_strat_clf = DummyClassifier(strategy=\"stratified\", random_state=random_state)\n",
    "dummy_strat_clf.fit(X_train, y_train)\n",
    "y_pred = np.int64(dummy_strat_clf.predict(X_train))\n",
    "print(\"Dummy Classifier ROC-AUC score:\", roc_auc_score(y_train, y_pred))\n",
    "print(\"Dummy Classifier ROC-AUC score:\\n\", classification_report(y_train, y_pred, zero_division=0.0))\n"
   ]
  },
  {
   "cell_type": "markdown",
   "metadata": {},
   "source": [
    "### Preprocessing Pipelines"
   ]
  },
  {
   "cell_type": "code",
   "execution_count": 12,
   "metadata": {},
   "outputs": [],
   "source": [
    "# Preprocessing\n",
    "## StandardScaler for numerical\n",
    "## OneHotEncoding for categorical\n",
    "## TargetEncoder for high-cardinality\n",
    "## Feature Selection / No Feature Selection\n",
    "\n",
    "# Model instantiation and hyperparemeter grids.\n",
    "## Regression Logistic / ELasticsNet\n",
    "\n",
    "## Random Forest\n",
    "\n",
    "## AdaBoost\n",
    "\n",
    "## XGBoost"
   ]
  },
  {
   "cell_type": "code",
   "execution_count": 28,
   "metadata": {},
   "outputs": [],
   "source": [
    "# Build column transformers\n",
    "categorical_features = make_column_selector(dtype_include=['object', 'string'])\n",
    "numerical_features = make_column_selector(dtype_include=['number'])\n",
    "all_features = make_column_selector(dtype_include=['number', 'object'])\n",
    "# Create transformers pipeline\n",
    "preprocessor = ColumnTransformer([\n",
    "    (\"ohe\", OneHotEncoder(drop=\"if_binary\", handle_unknown=\"ignore\"), categorical_features),\n",
    "    # (\"imputer_cat\", SimpleImputer(strategy=\"most_frequent\"), categorical_features),\n",
    "    # (\"imputer_num\", SimpleImputer(strategy=\"median\"), numerical_features),\n",
    "    (\"scaler\", StandardScaler(), numerical_features),\n",
    "    (\"targe_tenc\", TargetEncoder(), high_cardinalty_features),\n",
    "    # (\"imputer\", KNNImputer(weights=\"distance\"), all_features),\n",
    "    # (\"feature_selection\", RFECV())\n",
    "])\n",
    "cat_preprocessor = ColumnTransformer([\n",
    "    (\"ohe\", OneHotEncoder(drop=\"if_binary\", handle_unknown=\"ignore\"), categorical_features),\n",
    "])\n",
    "\n",
    "# Model instantiation for Logistic Regression (4 * 5 * 5cv = 100)\n",
    "Cs = np.logspace(-4, 0, 4) # 3\n",
    "l1_ratios = [1.0] #[.0, .5, 1.0] # 3\n",
    "estimator_lr = LogisticRegressionCV(Cs=Cs, cv=cv, scoring=scoring, solver='saga',\n",
    "                                    penalty=\"elasticnet\", l1_ratios=l1_ratios,\n",
    "                                    verbose=5, random_state=random_state,\n",
    "                                    fit_intercept=False)\n",
    "# Build pipeline for Logistic Regression\n",
    "logreg_clf = Pipeline([\n",
    "    ('preprocessor', preprocessor),\n",
    "    ('imputer', SimpleImputer(strategy=\"median\")),\n",
    "    ('estimator', estimator_lr),\n",
    "])\n",
    "\n",
    "# Hyperparameter grid for Random Forest\n",
    "rf_params = {\n",
    "    'estimator__n_estimators': (100, 200),\n",
    "    # 'estimator__max_depth': (5, 30),\n",
    "    'estimator__min_samples_leaf': (1, 20),\n",
    "    'estimator__ccp_alpha': (0., 1e-1)\n",
    "}\n",
    "# Build pipeline for Random Forest\n",
    "rf_clf = Pipeline([\n",
    "    ('preprocessor', cat_preprocessor),\n",
    "    (\"feature_selection\", RFE(RandomForestClassifier(n_estimators=20), n_features_to_select=0.2, step=0.4)),\n",
    "    ('estimator', RandomForestClassifier(class_weight=\"balanced_subsample\"))\n",
    "])\n",
    "# Bayesian Search for Random Forest\n",
    "rf_search = BayesSearchCV(rf_clf, rf_params, n_iter=10, random_state=42, n_jobs=-1, cv=cv)"
   ]
  },
  {
   "cell_type": "markdown",
   "metadata": {},
   "source": [
    "### Training, cross-validation, hyperparameters tuning "
   ]
  },
  {
   "cell_type": "code",
   "execution_count": 14,
   "metadata": {},
   "outputs": [
    {
     "name": "stdout",
     "output_type": "stream",
     "text": [
      "convergence after 96 epochs took 15 seconds\n",
      "max_iter reached after 15 seconds\n"
     ]
    },
    {
     "name": "stderr",
     "output_type": "stream",
     "text": [
      "c:\\Users\\Yedidia AGNIMO\\Documents\\YouTrend\\YouTrend\\venv_youtrend\\lib\\site-packages\\sklearn\\linear_model\\_sag.py:350: ConvergenceWarning: The max_iter was reached which means the coef_ did not converge\n",
      "  warnings.warn(\n"
     ]
    },
    {
     "name": "stdout",
     "output_type": "stream",
     "text": [
      "max_iter reached after 16 seconds\n"
     ]
    },
    {
     "name": "stderr",
     "output_type": "stream",
     "text": [
      "c:\\Users\\Yedidia AGNIMO\\Documents\\YouTrend\\YouTrend\\venv_youtrend\\lib\\site-packages\\sklearn\\linear_model\\_sag.py:350: ConvergenceWarning: The max_iter was reached which means the coef_ did not converge\n",
      "  warnings.warn(\n"
     ]
    },
    {
     "name": "stdout",
     "output_type": "stream",
     "text": [
      "max_iter reached after 16 seconds\n"
     ]
    },
    {
     "name": "stderr",
     "output_type": "stream",
     "text": [
      "c:\\Users\\Yedidia AGNIMO\\Documents\\YouTrend\\YouTrend\\venv_youtrend\\lib\\site-packages\\sklearn\\linear_model\\_sag.py:350: ConvergenceWarning: The max_iter was reached which means the coef_ did not converge\n",
      "  warnings.warn(\n"
     ]
    },
    {
     "name": "stdout",
     "output_type": "stream",
     "text": [
      "convergence after 95 epochs took 14 seconds\n",
      "max_iter reached after 15 seconds\n"
     ]
    },
    {
     "name": "stderr",
     "output_type": "stream",
     "text": [
      "c:\\Users\\Yedidia AGNIMO\\Documents\\YouTrend\\YouTrend\\venv_youtrend\\lib\\site-packages\\sklearn\\linear_model\\_sag.py:350: ConvergenceWarning: The max_iter was reached which means the coef_ did not converge\n",
      "  warnings.warn(\n"
     ]
    },
    {
     "name": "stdout",
     "output_type": "stream",
     "text": [
      "max_iter reached after 17 seconds\n"
     ]
    },
    {
     "name": "stderr",
     "output_type": "stream",
     "text": [
      "c:\\Users\\Yedidia AGNIMO\\Documents\\YouTrend\\YouTrend\\venv_youtrend\\lib\\site-packages\\sklearn\\linear_model\\_sag.py:350: ConvergenceWarning: The max_iter was reached which means the coef_ did not converge\n",
      "  warnings.warn(\n"
     ]
    },
    {
     "name": "stdout",
     "output_type": "stream",
     "text": [
      "max_iter reached after 15 seconds\n"
     ]
    },
    {
     "name": "stderr",
     "output_type": "stream",
     "text": [
      "c:\\Users\\Yedidia AGNIMO\\Documents\\YouTrend\\YouTrend\\venv_youtrend\\lib\\site-packages\\sklearn\\linear_model\\_sag.py:350: ConvergenceWarning: The max_iter was reached which means the coef_ did not converge\n",
      "  warnings.warn(\n"
     ]
    },
    {
     "name": "stdout",
     "output_type": "stream",
     "text": [
      "convergence after 95 epochs took 14 seconds\n",
      "max_iter reached after 15 seconds\n"
     ]
    },
    {
     "name": "stderr",
     "output_type": "stream",
     "text": [
      "c:\\Users\\Yedidia AGNIMO\\Documents\\YouTrend\\YouTrend\\venv_youtrend\\lib\\site-packages\\sklearn\\linear_model\\_sag.py:350: ConvergenceWarning: The max_iter was reached which means the coef_ did not converge\n",
      "  warnings.warn(\n"
     ]
    },
    {
     "name": "stdout",
     "output_type": "stream",
     "text": [
      "max_iter reached after 16 seconds\n"
     ]
    },
    {
     "name": "stderr",
     "output_type": "stream",
     "text": [
      "c:\\Users\\Yedidia AGNIMO\\Documents\\YouTrend\\YouTrend\\venv_youtrend\\lib\\site-packages\\sklearn\\linear_model\\_sag.py:350: ConvergenceWarning: The max_iter was reached which means the coef_ did not converge\n",
      "  warnings.warn(\n"
     ]
    },
    {
     "name": "stdout",
     "output_type": "stream",
     "text": [
      "max_iter reached after 16 seconds\n"
     ]
    },
    {
     "name": "stderr",
     "output_type": "stream",
     "text": [
      "c:\\Users\\Yedidia AGNIMO\\Documents\\YouTrend\\YouTrend\\venv_youtrend\\lib\\site-packages\\sklearn\\linear_model\\_sag.py:350: ConvergenceWarning: The max_iter was reached which means the coef_ did not converge\n",
      "  warnings.warn(\n"
     ]
    },
    {
     "name": "stdout",
     "output_type": "stream",
     "text": [
      "convergence after 99 epochs took 14 seconds\n",
      "max_iter reached after 15 seconds\n"
     ]
    },
    {
     "name": "stderr",
     "output_type": "stream",
     "text": [
      "c:\\Users\\Yedidia AGNIMO\\Documents\\YouTrend\\YouTrend\\venv_youtrend\\lib\\site-packages\\sklearn\\linear_model\\_sag.py:350: ConvergenceWarning: The max_iter was reached which means the coef_ did not converge\n",
      "  warnings.warn(\n"
     ]
    },
    {
     "name": "stdout",
     "output_type": "stream",
     "text": [
      "max_iter reached after 16 seconds\n"
     ]
    },
    {
     "name": "stderr",
     "output_type": "stream",
     "text": [
      "c:\\Users\\Yedidia AGNIMO\\Documents\\YouTrend\\YouTrend\\venv_youtrend\\lib\\site-packages\\sklearn\\linear_model\\_sag.py:350: ConvergenceWarning: The max_iter was reached which means the coef_ did not converge\n",
      "  warnings.warn(\n"
     ]
    },
    {
     "name": "stdout",
     "output_type": "stream",
     "text": [
      "max_iter reached after 20 seconds\n"
     ]
    },
    {
     "name": "stderr",
     "output_type": "stream",
     "text": [
      "c:\\Users\\Yedidia AGNIMO\\Documents\\YouTrend\\YouTrend\\venv_youtrend\\lib\\site-packages\\sklearn\\linear_model\\_sag.py:350: ConvergenceWarning: The max_iter was reached which means the coef_ did not converge\n",
      "  warnings.warn(\n"
     ]
    },
    {
     "name": "stdout",
     "output_type": "stream",
     "text": [
      "convergence after 97 epochs took 19 seconds\n",
      "max_iter reached after 20 seconds\n"
     ]
    },
    {
     "name": "stderr",
     "output_type": "stream",
     "text": [
      "c:\\Users\\Yedidia AGNIMO\\Documents\\YouTrend\\YouTrend\\venv_youtrend\\lib\\site-packages\\sklearn\\linear_model\\_sag.py:350: ConvergenceWarning: The max_iter was reached which means the coef_ did not converge\n",
      "  warnings.warn(\n"
     ]
    },
    {
     "name": "stdout",
     "output_type": "stream",
     "text": [
      "max_iter reached after 16 seconds\n"
     ]
    },
    {
     "name": "stderr",
     "output_type": "stream",
     "text": [
      "c:\\Users\\Yedidia AGNIMO\\Documents\\YouTrend\\YouTrend\\venv_youtrend\\lib\\site-packages\\sklearn\\linear_model\\_sag.py:350: ConvergenceWarning: The max_iter was reached which means the coef_ did not converge\n",
      "  warnings.warn(\n"
     ]
    },
    {
     "name": "stdout",
     "output_type": "stream",
     "text": [
      "max_iter reached after 17 seconds\n"
     ]
    },
    {
     "name": "stderr",
     "output_type": "stream",
     "text": [
      "c:\\Users\\Yedidia AGNIMO\\Documents\\YouTrend\\YouTrend\\venv_youtrend\\lib\\site-packages\\sklearn\\linear_model\\_sag.py:350: ConvergenceWarning: The max_iter was reached which means the coef_ did not converge\n",
      "  warnings.warn(\n"
     ]
    },
    {
     "name": "stdout",
     "output_type": "stream",
     "text": [
      "max_iter reached after 20 seconds\n"
     ]
    },
    {
     "name": "stderr",
     "output_type": "stream",
     "text": [
      "c:\\Users\\Yedidia AGNIMO\\Documents\\YouTrend\\YouTrend\\venv_youtrend\\lib\\site-packages\\sklearn\\linear_model\\_sag.py:350: ConvergenceWarning: The max_iter was reached which means the coef_ did not converge\n",
      "  warnings.warn(\n"
     ]
    },
    {
     "data": {
      "text/html": [
       "<style>#sk-container-id-1 {color: black;}#sk-container-id-1 pre{padding: 0;}#sk-container-id-1 div.sk-toggleable {background-color: white;}#sk-container-id-1 label.sk-toggleable__label {cursor: pointer;display: block;width: 100%;margin-bottom: 0;padding: 0.3em;box-sizing: border-box;text-align: center;}#sk-container-id-1 label.sk-toggleable__label-arrow:before {content: \"▸\";float: left;margin-right: 0.25em;color: #696969;}#sk-container-id-1 label.sk-toggleable__label-arrow:hover:before {color: black;}#sk-container-id-1 div.sk-estimator:hover label.sk-toggleable__label-arrow:before {color: black;}#sk-container-id-1 div.sk-toggleable__content {max-height: 0;max-width: 0;overflow: hidden;text-align: left;background-color: #f0f8ff;}#sk-container-id-1 div.sk-toggleable__content pre {margin: 0.2em;color: black;border-radius: 0.25em;background-color: #f0f8ff;}#sk-container-id-1 input.sk-toggleable__control:checked~div.sk-toggleable__content {max-height: 200px;max-width: 100%;overflow: auto;}#sk-container-id-1 input.sk-toggleable__control:checked~label.sk-toggleable__label-arrow:before {content: \"▾\";}#sk-container-id-1 div.sk-estimator input.sk-toggleable__control:checked~label.sk-toggleable__label {background-color: #d4ebff;}#sk-container-id-1 div.sk-label input.sk-toggleable__control:checked~label.sk-toggleable__label {background-color: #d4ebff;}#sk-container-id-1 input.sk-hidden--visually {border: 0;clip: rect(1px 1px 1px 1px);clip: rect(1px, 1px, 1px, 1px);height: 1px;margin: -1px;overflow: hidden;padding: 0;position: absolute;width: 1px;}#sk-container-id-1 div.sk-estimator {font-family: monospace;background-color: #f0f8ff;border: 1px dotted black;border-radius: 0.25em;box-sizing: border-box;margin-bottom: 0.5em;}#sk-container-id-1 div.sk-estimator:hover {background-color: #d4ebff;}#sk-container-id-1 div.sk-parallel-item::after {content: \"\";width: 100%;border-bottom: 1px solid gray;flex-grow: 1;}#sk-container-id-1 div.sk-label:hover label.sk-toggleable__label {background-color: #d4ebff;}#sk-container-id-1 div.sk-serial::before {content: \"\";position: absolute;border-left: 1px solid gray;box-sizing: border-box;top: 0;bottom: 0;left: 50%;z-index: 0;}#sk-container-id-1 div.sk-serial {display: flex;flex-direction: column;align-items: center;background-color: white;padding-right: 0.2em;padding-left: 0.2em;position: relative;}#sk-container-id-1 div.sk-item {position: relative;z-index: 1;}#sk-container-id-1 div.sk-parallel {display: flex;align-items: stretch;justify-content: center;background-color: white;position: relative;}#sk-container-id-1 div.sk-item::before, #sk-container-id-1 div.sk-parallel-item::before {content: \"\";position: absolute;border-left: 1px solid gray;box-sizing: border-box;top: 0;bottom: 0;left: 50%;z-index: -1;}#sk-container-id-1 div.sk-parallel-item {display: flex;flex-direction: column;z-index: 1;position: relative;background-color: white;}#sk-container-id-1 div.sk-parallel-item:first-child::after {align-self: flex-end;width: 50%;}#sk-container-id-1 div.sk-parallel-item:last-child::after {align-self: flex-start;width: 50%;}#sk-container-id-1 div.sk-parallel-item:only-child::after {width: 0;}#sk-container-id-1 div.sk-dashed-wrapped {border: 1px dashed gray;margin: 0 0.4em 0.5em 0.4em;box-sizing: border-box;padding-bottom: 0.4em;background-color: white;}#sk-container-id-1 div.sk-label label {font-family: monospace;font-weight: bold;display: inline-block;line-height: 1.2em;}#sk-container-id-1 div.sk-label-container {text-align: center;}#sk-container-id-1 div.sk-container {/* jupyter's `normalize.less` sets `[hidden] { display: none; }` but bootstrap.min.css set `[hidden] { display: none !important; }` so we also need the `!important` here to be able to override the default hidden behavior on the sphinx rendered scikit-learn.org. See: https://github.com/scikit-learn/scikit-learn/issues/21755 */display: inline-block !important;position: relative;}#sk-container-id-1 div.sk-text-repr-fallback {display: none;}</style><div id=\"sk-container-id-1\" class=\"sk-top-container\"><div class=\"sk-text-repr-fallback\"><pre>Pipeline(steps=[(&#x27;preprocessor&#x27;,\n",
       "                 ColumnTransformer(transformers=[(&#x27;ohe&#x27;,\n",
       "                                                  OneHotEncoder(drop=&#x27;if_binary&#x27;,\n",
       "                                                                handle_unknown=&#x27;ignore&#x27;),\n",
       "                                                  &lt;sklearn.compose._column_transformer.make_column_selector object at 0x000002B39888BA90&gt;),\n",
       "                                                 (&#x27;scaler&#x27;, StandardScaler(),\n",
       "                                                  &lt;sklearn.compose._column_transformer.make_column_selector object at 0x000002B3FFE07B80&gt;),\n",
       "                                                 (&#x27;targe_tenc&#x27;, TargetEnco...\n",
       "                                                  [&#x27;COD_IRIS&#x27;])])),\n",
       "                (&#x27;imputer&#x27;, SimpleImputer(strategy=&#x27;median&#x27;)),\n",
       "                (&#x27;estimator&#x27;,\n",
       "                 LogisticRegressionCV(Cs=array([1.00000000e-04, 2.15443469e-03, 4.64158883e-02, 1.00000000e+00]),\n",
       "                                      cv=StratifiedKFold(n_splits=5, random_state=None, shuffle=False),\n",
       "                                      fit_intercept=False, l1_ratios=[1.0],\n",
       "                                      penalty=&#x27;elasticnet&#x27;, random_state=42,\n",
       "                                      scoring=&#x27;accuracy&#x27;, solver=&#x27;saga&#x27;,\n",
       "                                      verbose=5))])</pre><b>In a Jupyter environment, please rerun this cell to show the HTML representation or trust the notebook. <br />On GitHub, the HTML representation is unable to render, please try loading this page with nbviewer.org.</b></div><div class=\"sk-container\" hidden><div class=\"sk-item sk-dashed-wrapped\"><div class=\"sk-label-container\"><div class=\"sk-label sk-toggleable\"><input class=\"sk-toggleable__control sk-hidden--visually\" id=\"sk-estimator-id-1\" type=\"checkbox\" ><label for=\"sk-estimator-id-1\" class=\"sk-toggleable__label sk-toggleable__label-arrow\">Pipeline</label><div class=\"sk-toggleable__content\"><pre>Pipeline(steps=[(&#x27;preprocessor&#x27;,\n",
       "                 ColumnTransformer(transformers=[(&#x27;ohe&#x27;,\n",
       "                                                  OneHotEncoder(drop=&#x27;if_binary&#x27;,\n",
       "                                                                handle_unknown=&#x27;ignore&#x27;),\n",
       "                                                  &lt;sklearn.compose._column_transformer.make_column_selector object at 0x000002B39888BA90&gt;),\n",
       "                                                 (&#x27;scaler&#x27;, StandardScaler(),\n",
       "                                                  &lt;sklearn.compose._column_transformer.make_column_selector object at 0x000002B3FFE07B80&gt;),\n",
       "                                                 (&#x27;targe_tenc&#x27;, TargetEnco...\n",
       "                                                  [&#x27;COD_IRIS&#x27;])])),\n",
       "                (&#x27;imputer&#x27;, SimpleImputer(strategy=&#x27;median&#x27;)),\n",
       "                (&#x27;estimator&#x27;,\n",
       "                 LogisticRegressionCV(Cs=array([1.00000000e-04, 2.15443469e-03, 4.64158883e-02, 1.00000000e+00]),\n",
       "                                      cv=StratifiedKFold(n_splits=5, random_state=None, shuffle=False),\n",
       "                                      fit_intercept=False, l1_ratios=[1.0],\n",
       "                                      penalty=&#x27;elasticnet&#x27;, random_state=42,\n",
       "                                      scoring=&#x27;accuracy&#x27;, solver=&#x27;saga&#x27;,\n",
       "                                      verbose=5))])</pre></div></div></div><div class=\"sk-serial\"><div class=\"sk-item sk-dashed-wrapped\"><div class=\"sk-label-container\"><div class=\"sk-label sk-toggleable\"><input class=\"sk-toggleable__control sk-hidden--visually\" id=\"sk-estimator-id-2\" type=\"checkbox\" ><label for=\"sk-estimator-id-2\" class=\"sk-toggleable__label sk-toggleable__label-arrow\">preprocessor: ColumnTransformer</label><div class=\"sk-toggleable__content\"><pre>ColumnTransformer(transformers=[(&#x27;ohe&#x27;,\n",
       "                                 OneHotEncoder(drop=&#x27;if_binary&#x27;,\n",
       "                                               handle_unknown=&#x27;ignore&#x27;),\n",
       "                                 &lt;sklearn.compose._column_transformer.make_column_selector object at 0x000002B39888BA90&gt;),\n",
       "                                (&#x27;scaler&#x27;, StandardScaler(),\n",
       "                                 &lt;sklearn.compose._column_transformer.make_column_selector object at 0x000002B3FFE07B80&gt;),\n",
       "                                (&#x27;targe_tenc&#x27;, TargetEncoder(), [&#x27;COD_IRIS&#x27;])])</pre></div></div></div><div class=\"sk-parallel\"><div class=\"sk-parallel-item\"><div class=\"sk-item\"><div class=\"sk-label-container\"><div class=\"sk-label sk-toggleable\"><input class=\"sk-toggleable__control sk-hidden--visually\" id=\"sk-estimator-id-3\" type=\"checkbox\" ><label for=\"sk-estimator-id-3\" class=\"sk-toggleable__label sk-toggleable__label-arrow\">ohe</label><div class=\"sk-toggleable__content\"><pre>&lt;sklearn.compose._column_transformer.make_column_selector object at 0x000002B39888BA90&gt;</pre></div></div></div><div class=\"sk-serial\"><div class=\"sk-item\"><div class=\"sk-estimator sk-toggleable\"><input class=\"sk-toggleable__control sk-hidden--visually\" id=\"sk-estimator-id-4\" type=\"checkbox\" ><label for=\"sk-estimator-id-4\" class=\"sk-toggleable__label sk-toggleable__label-arrow\">OneHotEncoder</label><div class=\"sk-toggleable__content\"><pre>OneHotEncoder(drop=&#x27;if_binary&#x27;, handle_unknown=&#x27;ignore&#x27;)</pre></div></div></div></div></div></div><div class=\"sk-parallel-item\"><div class=\"sk-item\"><div class=\"sk-label-container\"><div class=\"sk-label sk-toggleable\"><input class=\"sk-toggleable__control sk-hidden--visually\" id=\"sk-estimator-id-5\" type=\"checkbox\" ><label for=\"sk-estimator-id-5\" class=\"sk-toggleable__label sk-toggleable__label-arrow\">scaler</label><div class=\"sk-toggleable__content\"><pre>&lt;sklearn.compose._column_transformer.make_column_selector object at 0x000002B3FFE07B80&gt;</pre></div></div></div><div class=\"sk-serial\"><div class=\"sk-item\"><div class=\"sk-estimator sk-toggleable\"><input class=\"sk-toggleable__control sk-hidden--visually\" id=\"sk-estimator-id-6\" type=\"checkbox\" ><label for=\"sk-estimator-id-6\" class=\"sk-toggleable__label sk-toggleable__label-arrow\">StandardScaler</label><div class=\"sk-toggleable__content\"><pre>StandardScaler()</pre></div></div></div></div></div></div><div class=\"sk-parallel-item\"><div class=\"sk-item\"><div class=\"sk-label-container\"><div class=\"sk-label sk-toggleable\"><input class=\"sk-toggleable__control sk-hidden--visually\" id=\"sk-estimator-id-7\" type=\"checkbox\" ><label for=\"sk-estimator-id-7\" class=\"sk-toggleable__label sk-toggleable__label-arrow\">targe_tenc</label><div class=\"sk-toggleable__content\"><pre>[&#x27;COD_IRIS&#x27;]</pre></div></div></div><div class=\"sk-serial\"><div class=\"sk-item\"><div class=\"sk-estimator sk-toggleable\"><input class=\"sk-toggleable__control sk-hidden--visually\" id=\"sk-estimator-id-8\" type=\"checkbox\" ><label for=\"sk-estimator-id-8\" class=\"sk-toggleable__label sk-toggleable__label-arrow\">TargetEncoder</label><div class=\"sk-toggleable__content\"><pre>TargetEncoder()</pre></div></div></div></div></div></div></div></div><div class=\"sk-item\"><div class=\"sk-estimator sk-toggleable\"><input class=\"sk-toggleable__control sk-hidden--visually\" id=\"sk-estimator-id-9\" type=\"checkbox\" ><label for=\"sk-estimator-id-9\" class=\"sk-toggleable__label sk-toggleable__label-arrow\">SimpleImputer</label><div class=\"sk-toggleable__content\"><pre>SimpleImputer(strategy=&#x27;median&#x27;)</pre></div></div></div><div class=\"sk-item\"><div class=\"sk-estimator sk-toggleable\"><input class=\"sk-toggleable__control sk-hidden--visually\" id=\"sk-estimator-id-10\" type=\"checkbox\" ><label for=\"sk-estimator-id-10\" class=\"sk-toggleable__label sk-toggleable__label-arrow\">LogisticRegressionCV</label><div class=\"sk-toggleable__content\"><pre>LogisticRegressionCV(Cs=array([1.00000000e-04, 2.15443469e-03, 4.64158883e-02, 1.00000000e+00]),\n",
       "                     cv=StratifiedKFold(n_splits=5, random_state=None, shuffle=False),\n",
       "                     fit_intercept=False, l1_ratios=[1.0], penalty=&#x27;elasticnet&#x27;,\n",
       "                     random_state=42, scoring=&#x27;accuracy&#x27;, solver=&#x27;saga&#x27;,\n",
       "                     verbose=5)</pre></div></div></div></div></div></div></div>"
      ],
      "text/plain": [
       "Pipeline(steps=[('preprocessor',\n",
       "                 ColumnTransformer(transformers=[('ohe',\n",
       "                                                  OneHotEncoder(drop='if_binary',\n",
       "                                                                handle_unknown='ignore'),\n",
       "                                                  <sklearn.compose._column_transformer.make_column_selector object at 0x000002B39888BA90>),\n",
       "                                                 ('scaler', StandardScaler(),\n",
       "                                                  <sklearn.compose._column_transformer.make_column_selector object at 0x000002B3FFE07B80>),\n",
       "                                                 ('targe_tenc', TargetEnco...\n",
       "                                                  ['COD_IRIS'])])),\n",
       "                ('imputer', SimpleImputer(strategy='median')),\n",
       "                ('estimator',\n",
       "                 LogisticRegressionCV(Cs=array([1.00000000e-04, 2.15443469e-03, 4.64158883e-02, 1.00000000e+00]),\n",
       "                                      cv=StratifiedKFold(n_splits=5, random_state=None, shuffle=False),\n",
       "                                      fit_intercept=False, l1_ratios=[1.0],\n",
       "                                      penalty='elasticnet', random_state=42,\n",
       "                                      scoring='accuracy', solver='saga',\n",
       "                                      verbose=5))])"
      ]
     },
     "execution_count": 14,
     "metadata": {},
     "output_type": "execute_result"
    }
   ],
   "source": [
    "# Logistic Regression (or ElasticNetCV)\n",
    "logreg_clf.fit(X_train, y_train)"
   ]
  },
  {
   "cell_type": "code",
   "execution_count": 51,
   "metadata": {},
   "outputs": [],
   "source": [
    "# with open('../model/logreg_clf_2.pickle', 'wb') as fp:\n",
    "# \tpickle.dump(logreg_clf, fp)\n",
    "\n",
    "# with open('../model/logreg_clf.pickle', 'rb') as fp:\n",
    "# \tlogreg_clf = pickle.load(fp)\n",
    "\n",
    "with open('../model/logreg_clf_2.pickle', 'rb') as fp:\n",
    "\tlogreg_clf = pickle.load(fp)\n"
   ]
  },
  {
   "cell_type": "code",
   "execution_count": 52,
   "metadata": {},
   "outputs": [
    {
     "name": "stdout",
     "output_type": "stream",
     "text": [
      "Optimal C: 1.0\n",
      "Optimal l1_ratio: 1.0\n",
      "Best scores: 0.81\n",
      "----------- TRAIN -----------\n",
      "Train ROC AUC 0.53\n",
      "\n",
      "Train Classification Report\n",
      "               precision    recall  f1-score   support\n",
      "\n",
      "         0.0       0.82      0.99      0.89     55177\n",
      "         1.0       0.58      0.07      0.12     13246\n",
      "\n",
      "    accuracy                           0.81     68423\n",
      "   macro avg       0.70      0.53      0.51     68423\n",
      "weighted avg       0.77      0.81      0.74     68423\n",
      "\n",
      "----------- TEST -----------\n",
      "Test ROC AUC 0.52\n",
      "\n",
      "Test Classification Report\n",
      "               precision    recall  f1-score   support\n",
      "\n",
      "         0.0       0.81      0.99      0.89     13794\n",
      "         1.0       0.49      0.05      0.10      3312\n",
      "\n",
      "    accuracy                           0.81     17106\n",
      "   macro avg       0.65      0.52      0.49     17106\n",
      "weighted avg       0.75      0.81      0.74     17106\n",
      "\n"
     ]
    }
   ],
   "source": [
    "# Inspect result : coef_, C_, l1_ratio_, score_, coefs_paths_\n",
    "print(\"Optimal C:\", logreg_clf.named_steps[\"estimator\"].C_[0])\n",
    "print(\"Optimal l1_ratio:\", logreg_clf.named_steps[\"estimator\"].l1_ratio_[0])\n",
    "print(\"Best scores:\", logreg_clf.named_steps[\"estimator\"].scores_[1].mean().round(2))\n",
    "print_score_report(logreg_clf)"
   ]
  },
  {
   "cell_type": "code",
   "execution_count": 27,
   "metadata": {},
   "outputs": [
    {
     "data": {
      "image/png": "[encoded data removed]",
      "text/plain": [
       "<Figure size 640x480 with 1 Axes>"
      ]
     },
     "metadata": {},
     "output_type": "display_data"
    },
    {
     "data": {
      "image/png": "[encoded data removed]",
      "text/plain": [
       "<Figure size 640x480 with 1 Axes>"
      ]
     },
     "metadata": {},
     "output_type": "display_data"
    }
   ],
   "source": [
    "# Coefficient estimates.\n",
    "coefs = logreg_clf.named_steps[\"estimator\"].coef_\n",
    "coefs_series = pd.Series(coefs.ravel(), index=logreg_clf[:-1].get_feature_names_out())\n",
    "coefs_series.sort_values().tail(5).plot(kind=\"barh\", xlabel='Coefficient Value', title='Logistic Regression Coefficients')\n",
    "plt.show()\n",
    "coefs_series.sort_values().head(5).plot(kind=\"barh\", xlabel='Coefficient Value', title='Logistic Regression Coefficients')\n",
    "plt.show()"
   ]
  },
  {
   "cell_type": "markdown",
   "metadata": {},
   "source": [
    "* Accordingly to some literature [Programs for machine learning](https://linkinghub.elsevier.com/retrieve/pii/S0019995862906496) it preferable to let each tree of the forest grow until its leave then prune it. The pruning can be done using Minimum cost complexity algorithm. This algorithm is parametrize by a complexity parameter $\\alpha$. This required a prior analysis on one tree to get the effective alphas to test during the tuning.\n",
    "\n",
    "* Indeed, the cost complexity at a node t of a tree $T$ is $R_{\\alpha}(t) = R(t) + \\alpha$, where $R(t) is a measure of impurity (misclassification rate often). In general, the  impurity of a node is greater or equal than the sum of impurities of its terminal node. The effective alphas are values such that the equality hold. Then we just have to tune through this parameters space instead of tuning the depth, the number of nodes or the total impurity.\n",
    "\n",
    "* Here, we just consider a simple \"classical\" case of hyperparemater search."
   ]
  },
  {
   "cell_type": "code",
   "execution_count": 29,
   "metadata": {},
   "outputs": [
    {
     "data": {
      "text/html": [
       "<style>#sk-container-id-2 {color: black;}#sk-container-id-2 pre{padding: 0;}#sk-container-id-2 div.sk-toggleable {background-color: white;}#sk-container-id-2 label.sk-toggleable__label {cursor: pointer;display: block;width: 100%;margin-bottom: 0;padding: 0.3em;box-sizing: border-box;text-align: center;}#sk-container-id-2 label.sk-toggleable__label-arrow:before {content: \"▸\";float: left;margin-right: 0.25em;color: #696969;}#sk-container-id-2 label.sk-toggleable__label-arrow:hover:before {color: black;}#sk-container-id-2 div.sk-estimator:hover label.sk-toggleable__label-arrow:before {color: black;}#sk-container-id-2 div.sk-toggleable__content {max-height: 0;max-width: 0;overflow: hidden;text-align: left;background-color: #f0f8ff;}#sk-container-id-2 div.sk-toggleable__content pre {margin: 0.2em;color: black;border-radius: 0.25em;background-color: #f0f8ff;}#sk-container-id-2 input.sk-toggleable__control:checked~div.sk-toggleable__content {max-height: 200px;max-width: 100%;overflow: auto;}#sk-container-id-2 input.sk-toggleable__control:checked~label.sk-toggleable__label-arrow:before {content: \"▾\";}#sk-container-id-2 div.sk-estimator input.sk-toggleable__control:checked~label.sk-toggleable__label {background-color: #d4ebff;}#sk-container-id-2 div.sk-label input.sk-toggleable__control:checked~label.sk-toggleable__label {background-color: #d4ebff;}#sk-container-id-2 input.sk-hidden--visually {border: 0;clip: rect(1px 1px 1px 1px);clip: rect(1px, 1px, 1px, 1px);height: 1px;margin: -1px;overflow: hidden;padding: 0;position: absolute;width: 1px;}#sk-container-id-2 div.sk-estimator {font-family: monospace;background-color: #f0f8ff;border: 1px dotted black;border-radius: 0.25em;box-sizing: border-box;margin-bottom: 0.5em;}#sk-container-id-2 div.sk-estimator:hover {background-color: #d4ebff;}#sk-container-id-2 div.sk-parallel-item::after {content: \"\";width: 100%;border-bottom: 1px solid gray;flex-grow: 1;}#sk-container-id-2 div.sk-label:hover label.sk-toggleable__label {background-color: #d4ebff;}#sk-container-id-2 div.sk-serial::before {content: \"\";position: absolute;border-left: 1px solid gray;box-sizing: border-box;top: 0;bottom: 0;left: 50%;z-index: 0;}#sk-container-id-2 div.sk-serial {display: flex;flex-direction: column;align-items: center;background-color: white;padding-right: 0.2em;padding-left: 0.2em;position: relative;}#sk-container-id-2 div.sk-item {position: relative;z-index: 1;}#sk-container-id-2 div.sk-parallel {display: flex;align-items: stretch;justify-content: center;background-color: white;position: relative;}#sk-container-id-2 div.sk-item::before, #sk-container-id-2 div.sk-parallel-item::before {content: \"\";position: absolute;border-left: 1px solid gray;box-sizing: border-box;top: 0;bottom: 0;left: 50%;z-index: -1;}#sk-container-id-2 div.sk-parallel-item {display: flex;flex-direction: column;z-index: 1;position: relative;background-color: white;}#sk-container-id-2 div.sk-parallel-item:first-child::after {align-self: flex-end;width: 50%;}#sk-container-id-2 div.sk-parallel-item:last-child::after {align-self: flex-start;width: 50%;}#sk-container-id-2 div.sk-parallel-item:only-child::after {width: 0;}#sk-container-id-2 div.sk-dashed-wrapped {border: 1px dashed gray;margin: 0 0.4em 0.5em 0.4em;box-sizing: border-box;padding-bottom: 0.4em;background-color: white;}#sk-container-id-2 div.sk-label label {font-family: monospace;font-weight: bold;display: inline-block;line-height: 1.2em;}#sk-container-id-2 div.sk-label-container {text-align: center;}#sk-container-id-2 div.sk-container {/* jupyter's `normalize.less` sets `[hidden] { display: none; }` but bootstrap.min.css set `[hidden] { display: none !important; }` so we also need the `!important` here to be able to override the default hidden behavior on the sphinx rendered scikit-learn.org. See: https://github.com/scikit-learn/scikit-learn/issues/21755 */display: inline-block !important;position: relative;}#sk-container-id-2 div.sk-text-repr-fallback {display: none;}</style><div id=\"sk-container-id-2\" class=\"sk-top-container\"><div class=\"sk-text-repr-fallback\"><pre>Pipeline(steps=[(&#x27;preprocessor&#x27;,\n",
       "                 ColumnTransformer(transformers=[(&#x27;ohe&#x27;,\n",
       "                                                  OneHotEncoder(drop=&#x27;if_binary&#x27;,\n",
       "                                                                handle_unknown=&#x27;ignore&#x27;),\n",
       "                                                  &lt;sklearn.compose._column_transformer.make_column_selector object at 0x000002B3AE2F1780&gt;)])),\n",
       "                (&#x27;feature_selection&#x27;,\n",
       "                 RFE(estimator=RandomForestClassifier(n_estimators=20),\n",
       "                     n_features_to_select=0.2, step=0.4)),\n",
       "                (&#x27;estimator&#x27;,\n",
       "                 RandomForestClassifier(class_weight=&#x27;balanced_subsample&#x27;))])</pre><b>In a Jupyter environment, please rerun this cell to show the HTML representation or trust the notebook. <br />On GitHub, the HTML representation is unable to render, please try loading this page with nbviewer.org.</b></div><div class=\"sk-container\" hidden><div class=\"sk-item sk-dashed-wrapped\"><div class=\"sk-label-container\"><div class=\"sk-label sk-toggleable\"><input class=\"sk-toggleable__control sk-hidden--visually\" id=\"sk-estimator-id-11\" type=\"checkbox\" ><label for=\"sk-estimator-id-11\" class=\"sk-toggleable__label sk-toggleable__label-arrow\">Pipeline</label><div class=\"sk-toggleable__content\"><pre>Pipeline(steps=[(&#x27;preprocessor&#x27;,\n",
       "                 ColumnTransformer(transformers=[(&#x27;ohe&#x27;,\n",
       "                                                  OneHotEncoder(drop=&#x27;if_binary&#x27;,\n",
       "                                                                handle_unknown=&#x27;ignore&#x27;),\n",
       "                                                  &lt;sklearn.compose._column_transformer.make_column_selector object at 0x000002B3AE2F1780&gt;)])),\n",
       "                (&#x27;feature_selection&#x27;,\n",
       "                 RFE(estimator=RandomForestClassifier(n_estimators=20),\n",
       "                     n_features_to_select=0.2, step=0.4)),\n",
       "                (&#x27;estimator&#x27;,\n",
       "                 RandomForestClassifier(class_weight=&#x27;balanced_subsample&#x27;))])</pre></div></div></div><div class=\"sk-serial\"><div class=\"sk-item sk-dashed-wrapped\"><div class=\"sk-label-container\"><div class=\"sk-label sk-toggleable\"><input class=\"sk-toggleable__control sk-hidden--visually\" id=\"sk-estimator-id-12\" type=\"checkbox\" ><label for=\"sk-estimator-id-12\" class=\"sk-toggleable__label sk-toggleable__label-arrow\">preprocessor: ColumnTransformer</label><div class=\"sk-toggleable__content\"><pre>ColumnTransformer(transformers=[(&#x27;ohe&#x27;,\n",
       "                                 OneHotEncoder(drop=&#x27;if_binary&#x27;,\n",
       "                                               handle_unknown=&#x27;ignore&#x27;),\n",
       "                                 &lt;sklearn.compose._column_transformer.make_column_selector object at 0x000002B3AE2F1780&gt;)])</pre></div></div></div><div class=\"sk-parallel\"><div class=\"sk-parallel-item\"><div class=\"sk-item\"><div class=\"sk-label-container\"><div class=\"sk-label sk-toggleable\"><input class=\"sk-toggleable__control sk-hidden--visually\" id=\"sk-estimator-id-13\" type=\"checkbox\" ><label for=\"sk-estimator-id-13\" class=\"sk-toggleable__label sk-toggleable__label-arrow\">ohe</label><div class=\"sk-toggleable__content\"><pre>&lt;sklearn.compose._column_transformer.make_column_selector object at 0x000002B3AE2F1780&gt;</pre></div></div></div><div class=\"sk-serial\"><div class=\"sk-item\"><div class=\"sk-estimator sk-toggleable\"><input class=\"sk-toggleable__control sk-hidden--visually\" id=\"sk-estimator-id-14\" type=\"checkbox\" ><label for=\"sk-estimator-id-14\" class=\"sk-toggleable__label sk-toggleable__label-arrow\">OneHotEncoder</label><div class=\"sk-toggleable__content\"><pre>OneHotEncoder(drop=&#x27;if_binary&#x27;, handle_unknown=&#x27;ignore&#x27;)</pre></div></div></div></div></div></div></div></div><div class=\"sk-item sk-dashed-wrapped\"><div class=\"sk-label-container\"><div class=\"sk-label sk-toggleable\"><input class=\"sk-toggleable__control sk-hidden--visually\" id=\"sk-estimator-id-15\" type=\"checkbox\" ><label for=\"sk-estimator-id-15\" class=\"sk-toggleable__label sk-toggleable__label-arrow\">feature_selection: RFE</label><div class=\"sk-toggleable__content\"><pre>RFE(estimator=RandomForestClassifier(n_estimators=20), n_features_to_select=0.2,\n",
       "    step=0.4)</pre></div></div></div><div class=\"sk-parallel\"><div class=\"sk-parallel-item\"><div class=\"sk-item\"><div class=\"sk-label-container\"><div class=\"sk-label sk-toggleable\"><input class=\"sk-toggleable__control sk-hidden--visually\" id=\"sk-estimator-id-16\" type=\"checkbox\" ><label for=\"sk-estimator-id-16\" class=\"sk-toggleable__label sk-toggleable__label-arrow\">estimator: RandomForestClassifier</label><div class=\"sk-toggleable__content\"><pre>RandomForestClassifier(n_estimators=20)</pre></div></div></div><div class=\"sk-serial\"><div class=\"sk-item\"><div class=\"sk-estimator sk-toggleable\"><input class=\"sk-toggleable__control sk-hidden--visually\" id=\"sk-estimator-id-17\" type=\"checkbox\" ><label for=\"sk-estimator-id-17\" class=\"sk-toggleable__label sk-toggleable__label-arrow\">RandomForestClassifier</label><div class=\"sk-toggleable__content\"><pre>RandomForestClassifier(n_estimators=20)</pre></div></div></div></div></div></div></div></div><div class=\"sk-item\"><div class=\"sk-estimator sk-toggleable\"><input class=\"sk-toggleable__control sk-hidden--visually\" id=\"sk-estimator-id-18\" type=\"checkbox\" ><label for=\"sk-estimator-id-18\" class=\"sk-toggleable__label sk-toggleable__label-arrow\">RandomForestClassifier</label><div class=\"sk-toggleable__content\"><pre>RandomForestClassifier(class_weight=&#x27;balanced_subsample&#x27;)</pre></div></div></div></div></div></div></div>"
      ],
      "text/plain": [
       "Pipeline(steps=[('preprocessor',\n",
       "                 ColumnTransformer(transformers=[('ohe',\n",
       "                                                  OneHotEncoder(drop='if_binary',\n",
       "                                                                handle_unknown='ignore'),\n",
       "                                                  <sklearn.compose._column_transformer.make_column_selector object at 0x000002B3AE2F1780>)])),\n",
       "                ('feature_selection',\n",
       "                 RFE(estimator=RandomForestClassifier(n_estimators=20),\n",
       "                     n_features_to_select=0.2, step=0.4)),\n",
       "                ('estimator',\n",
       "                 RandomForestClassifier(class_weight='balanced_subsample'))])"
      ]
     },
     "execution_count": 29,
     "metadata": {},
     "output_type": "execute_result"
    }
   ],
   "source": [
    "# Random Forest\n",
    "rf_clf.fit(X_train, y_train)"
   ]
  },
  {
   "cell_type": "markdown",
   "metadata": {},
   "source": [
    "> :WARNING:\n",
    ">\n",
    "> The serialized version of the random forest is too heavy to be uploaded to Github. If you really want to run it :\n",
    "> 1. Download the repository\n",
    "> 2. Go to _model_ folder and unzip _rf\\_clf.rar_\n",
    "> 3. Then, run the cells below "
   ]
  },
  {
   "cell_type": "code",
   "execution_count": 34,
   "metadata": {},
   "outputs": [],
   "source": [
    "# with open('../model/rf_clf.pickle', 'wb') as fp:\n",
    "# \tpickle.dump(rf_clf, fp)\n",
    "\n",
    "### WARNING \n",
    "with open('../model/rf_clf.pickle', 'rb') as fp:\n",
    "\trf_clf = pickle.load(fp)"
   ]
  },
  {
   "cell_type": "code",
   "execution_count": 45,
   "metadata": {},
   "outputs": [
    {
     "name": "stdout",
     "output_type": "stream",
     "text": [
      "{'bootstrap': True, 'ccp_alpha': 0.0, 'class_weight': 'balanced_subsample', 'criterion': 'gini', 'max_depth': None, 'max_features': 'sqrt', 'max_leaf_nodes': None, 'max_samples': None, 'min_impurity_decrease': 0.0, 'min_samples_leaf': 1, 'min_samples_split': 2, 'min_weight_fraction_leaf': 0.0, 'n_estimators': 100, 'n_jobs': None, 'oob_score': False, 'random_state': None, 'verbose': 0, 'warm_start': False}\n",
      "----------- TRAIN -----------\n",
      "Train ROC AUC 0.75\n",
      "\n",
      "Train Classification Report\n",
      "               precision    recall  f1-score   support\n",
      "\n",
      " No Employed       0.93      0.76      0.83     55177\n",
      "    Employed       0.43      0.75      0.54     13246\n",
      "\n",
      "    accuracy                           0.76     68423\n",
      "   macro avg       0.68      0.75      0.69     68423\n",
      "weighted avg       0.83      0.76      0.78     68423\n",
      "\n",
      "----------- TEST -----------\n",
      "Test ROC AUC 0.53\n",
      "\n",
      "Test Classification Report\n",
      "               precision    recall  f1-score   support\n",
      "\n",
      " No Employed       0.82      0.71      0.76     13794\n",
      "    Employed       0.23      0.36      0.28      3312\n",
      "\n",
      "    accuracy                           0.64     17106\n",
      "   macro avg       0.52      0.53      0.52     17106\n",
      "weighted avg       0.71      0.64      0.67     17106\n",
      "\n"
     ]
    }
   ],
   "source": [
    "# Inspect result :\n",
    "best_rf_clf = rf_clf.named_steps[\"estimator\"] \n",
    "print(best_rf_clf.get_params())\n",
    "print_score_report(rf_clf)"
   ]
  },
  {
   "cell_type": "code",
   "execution_count": 63,
   "metadata": {},
   "outputs": [
    {
     "data": {
      "image/png": "[encoded data removed]",
      "text/plain": [
       "<Figure size 640x480 with 1 Axes>"
      ]
     },
     "metadata": {},
     "output_type": "display_data"
    }
   ],
   "source": [
    "preproc_rf_clf = rf_clf[:-1]\n",
    "feature_importances = best_rf_clf.feature_importances_\n",
    "feature_names = preproc_rf_clf.get_feature_names_out()\n",
    "importances = pd.Series(feature_importances, index=feature_names)\n",
    "importances.sort_values().tail(10).plot(kind=\"barh\", xlabel='Feature Importances', title='Random Forest Feature Importances')\n",
    "plt.show()"
   ]
  },
  {
   "cell_type": "markdown",
   "metadata": {},
   "source": [
    "* Base Model Accuracy (train, test) = (0.81, 0.69) \n",
    "* Better performance of Logistic Regression (0.81, 0.81) that generalized very well.\n",
    "* Poor performance of RF (lower accuracy than dummy classifier).\n",
    "  * Need more tuning. We just take it as a sample of procedure.\n",
    "  * PCA could help to reduce dimension first before.\n",
    "\n",
    "* Whatever the model, the feature _C4_ has the highest importances. It seems people with C4=IB are more the more likely to be make economies."
   ]
  }
 ],
 "metadata": {
  "kernelspec": {
   "display_name": "YouTrend",
   "language": "python",
   "name": "youtrend"
  },
  "language_info": {
   "codemirror_mode": {
    "name": "ipython",
    "version": 3
   },
   "file_extension": ".py",
   "mimetype": "text/x-python",
   "name": "python",
   "nbconvert_exporter": "python",
   "pygments_lexer": "ipython3",
   "version": "3.10.11"
  }
 },
 "nbformat": 4,
 "nbformat_minor": 2
}
